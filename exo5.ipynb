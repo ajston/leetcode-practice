{
 "cells": [
  {
   "attachments": {},
   "cell_type": "markdown",
   "metadata": {},
   "source": [
    "## Exercice 5: Utilisation de l'aide en ligne"
   ]
  },
  {
   "cell_type": "code",
   "execution_count": 3,
   "metadata": {},
   "outputs": [
    {
     "name": "stdout",
     "output_type": "stream",
     "text": [
      "Printing the Original square array:\n",
      " [[1 2]\n",
      " [2 3]]\n"
     ]
    }
   ],
   "source": [
    "# -*- coding: utf-8 -*-\n",
    "\"\"\"\n",
    "Created on Tue Jan  3 12:52:30 2023\n",
    "\n",
    "@author: T14\n",
    "\"\"\"\n",
    "\n",
    "# importing numpy library\n",
    "import numpy as np\n",
    "  \n",
    "# create numpy 2d-array\n",
    "mat5 = np.array([[1, 2], [2, 3]])\n",
    "  \n",
    "print(\"Printing the Original square array:\\n\", mat5)"
   ]
  },
  {
   "cell_type": "code",
   "execution_count": 3,
   "metadata": {},
   "outputs": [
    {
     "name": "stdout",
     "output_type": "stream",
     "text": [
      "Printing the Eigen values of the given square array:\n",
      " [-0.23606798  4.23606798]\n"
     ]
    }
   ],
   "source": [
    "# finding eigenvalues and eigenvectors\n",
    "w, v = np.linalg.eig(mat5)\n",
    "  \n",
    "# printing eigen values\n",
    "print(\"Printing the Eigen values of the given square array:\\n\", w)"
   ]
  },
  {
   "cell_type": "code",
   "execution_count": null,
   "metadata": {},
   "outputs": [],
   "source": [
    "# finding Vandermonde array\n"
   ]
  },
  {
   "cell_type": "code",
   "execution_count": 4,
   "metadata": {},
   "outputs": [
    {
     "name": "stdout",
     "output_type": "stream",
     "text": [
      "9\n"
     ]
    }
   ],
   "source": [
    "# Longueur d'un vecteur\n",
    "vec = np.array([1,3,6,9,12,15,20,22,25])\n",
    "print(vec.size)"
   ]
  },
  {
   "cell_type": "code",
   "execution_count": 5,
   "metadata": {},
   "outputs": [
    {
     "name": "stdout",
     "output_type": "stream",
     "text": [
      "(3, 3)\n"
     ]
    }
   ],
   "source": [
    "# Taille d'une matrice\n",
    "arr = np.array([[1,3,6],[9,12,15],[20,22,25]])\n",
    "print(arr.shape)"
   ]
  },
  {
   "cell_type": "code",
   "execution_count": 6,
   "metadata": {},
   "outputs": [
    {
     "name": "stdout",
     "output_type": "stream",
     "text": [
      "Seconds since epoch = 1672763502.2289653\n"
     ]
    }
   ],
   "source": [
    "# Temps d'exécution dun programme\n",
    "\n",
    "# import the time module\n",
    "import time\n",
    "\n",
    "# get the current time in seconds since the epoch (the point where time begins)\n",
    "seconds = time.time()\n",
    "\n",
    "print(\"Seconds since epoch =\", seconds)\t"
   ]
  },
  {
   "cell_type": "code",
   "execution_count": 1,
   "metadata": {},
   "outputs": [
    {
     "name": "stdout",
     "output_type": "stream",
     "text": [
      "[[1 3 2]\n",
      " [2 1 3]\n",
      " [3 2 1]]\n"
     ]
    }
   ],
   "source": [
    "# Donner une matrice circulaire\n",
    "# import the scipy package\n",
    "from scipy.linalg import circulant\n",
    "\n",
    "A = circulant([1, 2, 3])\n",
    "print(A)"
   ]
  },
  {
   "cell_type": "code",
   "execution_count": 13,
   "metadata": {},
   "outputs": [
    {
     "name": "stdout",
     "output_type": "stream",
     "text": [
      "[[0.72414611 0.04465199 0.52750393 0.25112123 0.09535369]\n",
      " [0.07428194 0.48794117 0.16942439 0.24240602 0.59718417]]\n"
     ]
    }
   ],
   "source": [
    "B = np.random.rand(2, 5)\n",
    "print(B)\n"
   ]
  }
 ],
 "metadata": {
  "kernelspec": {
   "display_name": "Python 3.8.5 ('base')",
   "language": "python",
   "name": "python3"
  },
  "language_info": {
   "codemirror_mode": {
    "name": "ipython",
    "version": 3
   },
   "file_extension": ".py",
   "mimetype": "text/x-python",
   "name": "python",
   "nbconvert_exporter": "python",
   "pygments_lexer": "ipython3",
   "version": "3.8.5"
  },
  "orig_nbformat": 4,
  "vscode": {
   "interpreter": {
    "hash": "85eb6362706b4c64b697b17b5f10d8d0addd8b81eee2a1b47b7e1428dc166cc6"
   }
  }
 },
 "nbformat": 4,
 "nbformat_minor": 2
}
